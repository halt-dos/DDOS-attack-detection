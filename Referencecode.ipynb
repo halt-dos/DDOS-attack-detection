{
 "cells": [
  {
   "cell_type": "markdown",
   "id": "35a04c8d",
   "metadata": {},
   "source": [
    "This is just a refernce code. The analysis is not done on metrics data but is performed on a dataset found online"
   ]
  },
  {
   "cell_type": "code",
   "execution_count": 1,
   "id": "fec463e2",
   "metadata": {},
   "outputs": [],
   "source": [
    "import numpy as np \n",
    "import os\n",
    "import pandas as pd \n",
    "import time\n",
    "import matplotlib.pyplot as plt\n",
    "from scipy import stats\n",
    "import seaborn as sns\n",
    "from imblearn.under_sampling import RandomUnderSampler\n",
    "from sklearn.preprocessing import StandardScaler, LabelEncoder\n",
    "from sklearn import tree\n",
    "from sklearn.model_selection import cross_val_score\n",
    "from sklearn.ensemble import RandomForestClassifier as RFC\n",
    "from sklearn import metrics\n",
    "from sklearn.feature_selection import SelectKBest\n",
    "from sklearn.feature_selection import chi2"
   ]
  },
  {
   "cell_type": "code",
   "execution_count": 2,
   "id": "aa91b7a7",
   "metadata": {},
   "outputs": [],
   "source": [
    "df1 = pd.read_csv(\"MachineLearningCSV/MachineLearningCVE/Friday-WorkingHours-Afternoon-DDos.pcap_ISCX.csv\")\n",
    "df2 = pd.read_csv(\"MachineLearningCSV/MachineLearningCVE/Friday-WorkingHours-Afternoon-PortScan.pcap_ISCX.csv\")\n",
    "df3 = pd.read_csv(\"MachineLearningCSV/MachineLearningCVE/Friday-WorkingHours-Morning.pcap_ISCX.csv\")\n",
    "df4 = pd.read_csv(\"MachineLearningCSV/MachineLearningCVE/Monday-WorkingHours.pcap_ISCX.csv\")\n",
    "df5 = pd.read_csv(\"MachineLearningCSV/MachineLearningCVE/Thursday-WorkingHours-Afternoon-Infilteration.pcap_ISCX.csv\")\n",
    "df6 = pd.read_csv(\"MachineLearningCSV/MachineLearningCVE/Thursday-WorkingHours-Morning-WebAttacks.pcap_ISCX.csv\")\n",
    "df7 = pd.read_csv(\"MachineLearningCSV/MachineLearningCVE/Tuesday-WorkingHours.pcap_ISCX.csv\")\n",
    "df8 = pd.read_csv(\"MachineLearningCSV/MachineLearningCVE/Wednesday-workingHours.pcap_ISCX.csv\")"
   ]
  },
  {
   "cell_type": "code",
   "execution_count": 3,
   "id": "6ae7f1c5",
   "metadata": {},
   "outputs": [
    {
     "data": {
      "text/plain": [
       "(2830743, 79)"
      ]
     },
     "execution_count": 3,
     "metadata": {},
     "output_type": "execute_result"
    }
   ],
   "source": [
    "df = pd.concat([df1,df2])\n",
    "del df1,df2\n",
    "df = pd.concat([df,df3])\n",
    "del df3\n",
    "df = pd.concat([df,df4])\n",
    "del df4\n",
    "df = pd.concat([df,df5])\n",
    "del df5\n",
    "df = pd.concat([df,df6])\n",
    "del df6\n",
    "df = pd.concat([df,df7])\n",
    "del df7\n",
    "df = pd.concat([df,df8])\n",
    "del df8\n",
    "df.shape"
   ]
  },
  {
   "cell_type": "code",
   "execution_count": 5,
   "id": "bbdaad81",
   "metadata": {},
   "outputs": [
    {
     "data": {
      "text/plain": [
       "BENIGN                        2273097\n",
       "DoS Hulk                       231073\n",
       "PortScan                       158930\n",
       "DDoS                           128027\n",
       "DoS GoldenEye                   10293\n",
       "FTP-Patator                      7938\n",
       "SSH-Patator                      5897\n",
       "DoS slowloris                    5796\n",
       "DoS Slowhttptest                 5499\n",
       "Bot                              1966\n",
       "Web Attack � Brute Force         1507\n",
       "Web Attack � XSS                  652\n",
       "Infiltration                       36\n",
       "Web Attack � Sql Injection         21\n",
       "Heartbleed                         11\n",
       "Name:  Label, dtype: int64"
      ]
     },
     "execution_count": 5,
     "metadata": {},
     "output_type": "execute_result"
    }
   ],
   "source": [
    "df[' Label'].value_counts()"
   ]
  },
  {
   "cell_type": "code",
   "execution_count": 6,
   "id": "d8412783",
   "metadata": {},
   "outputs": [
    {
     "data": {
      "text/plain": [
       "308381"
      ]
     },
     "execution_count": 6,
     "metadata": {},
     "output_type": "execute_result"
    }
   ],
   "source": [
    "df.duplicated().sum()"
   ]
  },
  {
   "cell_type": "code",
   "execution_count": 7,
   "id": "9cc538c7",
   "metadata": {},
   "outputs": [
    {
     "data": {
      "text/plain": [
       "(2830743, 79)"
      ]
     },
     "execution_count": 7,
     "metadata": {},
     "output_type": "execute_result"
    }
   ],
   "source": [
    "df.shape"
   ]
  },
  {
   "cell_type": "code",
   "execution_count": 8,
   "id": "6b39118d",
   "metadata": {},
   "outputs": [],
   "source": [
    "df =  df.drop_duplicates(keep=\"first\")"
   ]
  },
  {
   "cell_type": "code",
   "execution_count": 9,
   "id": "22bb2dc6",
   "metadata": {},
   "outputs": [
    {
     "data": {
      "text/plain": [
       "0"
      ]
     },
     "execution_count": 9,
     "metadata": {},
     "output_type": "execute_result"
    }
   ],
   "source": [
    "df.duplicated().sum()"
   ]
  },
  {
   "cell_type": "code",
   "execution_count": 10,
   "id": "3a5f1f0e",
   "metadata": {},
   "outputs": [
    {
     "data": {
      "text/plain": [
       "Flow Bytes/s             353\n",
       " Destination Port          0\n",
       " Bwd Avg Bytes/Bulk        0\n",
       " Fwd Avg Packets/Bulk      0\n",
       "Fwd Avg Bytes/Bulk         0\n",
       "                        ... \n",
       " Bwd IAT Mean              0\n",
       "Bwd IAT Total              0\n",
       " Fwd IAT Min               0\n",
       " Fwd IAT Max               0\n",
       " Label                     0\n",
       "Length: 79, dtype: int64"
      ]
     },
     "execution_count": 10,
     "metadata": {},
     "output_type": "execute_result"
    }
   ],
   "source": [
    "df.isnull().sum().sort_values(ascending = False)"
   ]
  },
  {
   "cell_type": "code",
   "execution_count": 11,
   "id": "82cbb1c6",
   "metadata": {},
   "outputs": [],
   "source": [
    "df.dropna(inplace=True)"
   ]
  },
  {
   "cell_type": "code",
   "execution_count": 12,
   "id": "49c2f2b1",
   "metadata": {},
   "outputs": [
    {
     "data": {
      "text/plain": [
       "(2522009, 79)"
      ]
     },
     "execution_count": 12,
     "metadata": {},
     "output_type": "execute_result"
    }
   ],
   "source": [
    "df.shape"
   ]
  },
  {
   "cell_type": "code",
   "execution_count": 13,
   "id": "e4ebc0de",
   "metadata": {},
   "outputs": [
    {
     "data": {
      "text/plain": [
       " Destination Port        0\n",
       " ECE Flag Count          0\n",
       " Fwd Avg Packets/Bulk    0\n",
       "Fwd Avg Bytes/Bulk       0\n",
       " Fwd Header Length.1     0\n",
       "                        ..\n",
       "Bwd IAT Total            0\n",
       " Fwd IAT Min             0\n",
       " Fwd IAT Max             0\n",
       " Fwd IAT Std             0\n",
       " Label                   0\n",
       "Length: 79, dtype: int64"
      ]
     },
     "execution_count": 13,
     "metadata": {},
     "output_type": "execute_result"
    }
   ],
   "source": [
    "df.isnull().sum().sort_values(ascending = False)"
   ]
  },
  {
   "cell_type": "code",
   "execution_count": 14,
   "id": "68b874f5",
   "metadata": {},
   "outputs": [
    {
     "data": {
      "text/plain": [
       "BENIGN           2096134\n",
       "DoS Hulk          172846\n",
       "DDoS              128016\n",
       "PortScan           90819\n",
       "DoS GoldenEye      10286\n",
       "Name:  Label, dtype: int64"
      ]
     },
     "execution_count": 14,
     "metadata": {},
     "output_type": "execute_result"
    }
   ],
   "source": [
    "df=df.groupby(' Label').filter(lambda x:len(x)>10000)\n",
    "df[' Label'].value_counts()"
   ]
  },
  {
   "cell_type": "code",
   "execution_count": 15,
   "id": "43b1fbd7",
   "metadata": {},
   "outputs": [],
   "source": [
    "integer = []\n",
    "f = []\n",
    "for i in df.columns[:-1]:\n",
    "    if df[i].dtype == \"int64\": integer.append(i)\n",
    "    else : f.append(i)\n",
    "\n",
    "df[integer] = df[integer].astype(\"int32\")\n",
    "df[f] = df[f].astype(\"float32\")"
   ]
  },
  {
   "cell_type": "code",
   "execution_count": 16,
   "id": "8789d8b4",
   "metadata": {},
   "outputs": [
    {
     "data": {
      "text/plain": [
       "(2498101, 79)"
      ]
     },
     "execution_count": 16,
     "metadata": {},
     "output_type": "execute_result"
    }
   ],
   "source": [
    "df.shape"
   ]
  },
  {
   "cell_type": "code",
   "execution_count": 17,
   "id": "1e364011",
   "metadata": {},
   "outputs": [
    {
     "name": "stderr",
     "output_type": "stream",
     "text": [
      "/tmp/ipykernel_7911/4277620578.py:1: FutureWarning: In a future version of pandas all arguments of DataFrame.any and Series.any will be keyword-only.\n",
      "  df = df[~df.isin([np.nan, np.inf, -np.inf]).any(1)]\n"
     ]
    }
   ],
   "source": [
    "df = df[~df.isin([np.nan, np.inf, -np.inf]).any(1)]"
   ]
  },
  {
   "cell_type": "code",
   "execution_count": 18,
   "id": "7e889833",
   "metadata": {},
   "outputs": [
    {
     "data": {
      "text/plain": [
       "(2496897, 79)"
      ]
     },
     "execution_count": 18,
     "metadata": {},
     "output_type": "execute_result"
    }
   ],
   "source": [
    "df.shape"
   ]
  },
  {
   "cell_type": "code",
   "execution_count": 19,
   "id": "14801fa4",
   "metadata": {},
   "outputs": [],
   "source": [
    "def correlation(dataset, threshold):\n",
    "    col_corr = set()  \n",
    "    corr_matrix = dataset.corr()\n",
    "    for i in range(len(corr_matrix.columns)):\n",
    "        for j in range(i):\n",
    "            if abs(corr_matrix.iloc[i, j]) > threshold: \n",
    "              colname = corr_matrix.columns[i]                  \n",
    "              col_corr.add(colname)\n",
    "    return col_corr"
   ]
  },
  {
   "cell_type": "code",
   "execution_count": 20,
   "id": "b09ddbbc",
   "metadata": {
    "scrolled": true
   },
   "outputs": [
    {
     "name": "stderr",
     "output_type": "stream",
     "text": [
      "/tmp/ipykernel_7911/1360579028.py:3: FutureWarning: The default value of numeric_only in DataFrame.corr is deprecated. In a future version, it will default to False. Select only valid columns or specify the value of numeric_only to silence this warning.\n",
      "  corr_matrix = dataset.corr()\n"
     ]
    },
    {
     "data": {
      "text/plain": [
       "{' Active Min',\n",
       " ' Average Packet Size',\n",
       " ' Avg Bwd Segment Size',\n",
       " ' Avg Fwd Segment Size',\n",
       " ' Bwd IAT Max',\n",
       " ' Bwd IAT Mean',\n",
       " ' Bwd IAT Min',\n",
       " ' Bwd Packet Length Mean',\n",
       " ' Bwd Packet Length Std',\n",
       " ' CWE Flag Count',\n",
       " ' ECE Flag Count',\n",
       " ' Flow IAT Max',\n",
       " ' Fwd Header Length.1',\n",
       " ' Fwd IAT Max',\n",
       " ' Fwd IAT Mean',\n",
       " ' Fwd IAT Min',\n",
       " ' Fwd IAT Std',\n",
       " ' Fwd Packet Length Mean',\n",
       " ' Fwd Packet Length Std',\n",
       " ' Idle Max',\n",
       " ' Idle Min',\n",
       " ' Max Packet Length',\n",
       " ' Packet Length Mean',\n",
       " ' Packet Length Std',\n",
       " ' Packet Length Variance',\n",
       " ' SYN Flag Count',\n",
       " ' Subflow Bwd Bytes',\n",
       " ' Subflow Bwd Packets',\n",
       " ' Subflow Fwd Bytes',\n",
       " ' Total Backward Packets',\n",
       " ' Total Length of Bwd Packets',\n",
       " ' act_data_pkt_fwd',\n",
       " ' min_seg_size_forward',\n",
       " 'Fwd IAT Total',\n",
       " 'Fwd Packets/s',\n",
       " 'Idle Mean',\n",
       " 'Subflow Fwd Packets'}"
      ]
     },
     "execution_count": 20,
     "metadata": {},
     "output_type": "execute_result"
    }
   ],
   "source": [
    "corr_features = correlation(df, 0.85)\n",
    "corr_features"
   ]
  },
  {
   "cell_type": "code",
   "execution_count": 21,
   "id": "14cd0b1c",
   "metadata": {},
   "outputs": [],
   "source": [
    "df.drop(corr_features,axis=1,inplace=True)"
   ]
  },
  {
   "cell_type": "code",
   "execution_count": 22,
   "id": "b348083a",
   "metadata": {},
   "outputs": [],
   "source": [
    "x = df.drop([' Label'],axis=1)\n",
    "y = df[' Label']"
   ]
  },
  {
   "cell_type": "code",
   "execution_count": 23,
   "id": "4a85ff83",
   "metadata": {},
   "outputs": [
    {
     "data": {
      "text/html": [
       "<div>\n",
       "<style scoped>\n",
       "    .dataframe tbody tr th:only-of-type {\n",
       "        vertical-align: middle;\n",
       "    }\n",
       "\n",
       "    .dataframe tbody tr th {\n",
       "        vertical-align: top;\n",
       "    }\n",
       "\n",
       "    .dataframe thead th {\n",
       "        text-align: right;\n",
       "    }\n",
       "</style>\n",
       "<table border=\"1\" class=\"dataframe\">\n",
       "  <thead>\n",
       "    <tr style=\"text-align: right;\">\n",
       "      <th></th>\n",
       "      <th>Destination Port</th>\n",
       "      <th>Flow Duration</th>\n",
       "      <th>Total Fwd Packets</th>\n",
       "      <th>Total Length of Fwd Packets</th>\n",
       "      <th>Fwd Packet Length Max</th>\n",
       "      <th>Fwd Packet Length Min</th>\n",
       "      <th>Bwd Packet Length Max</th>\n",
       "      <th>Bwd Packet Length Min</th>\n",
       "      <th>Flow Bytes/s</th>\n",
       "      <th>Flow Packets/s</th>\n",
       "      <th>...</th>\n",
       "      <th>Fwd Avg Bulk Rate</th>\n",
       "      <th>Bwd Avg Bytes/Bulk</th>\n",
       "      <th>Bwd Avg Packets/Bulk</th>\n",
       "      <th>Bwd Avg Bulk Rate</th>\n",
       "      <th>Init_Win_bytes_forward</th>\n",
       "      <th>Init_Win_bytes_backward</th>\n",
       "      <th>Active Mean</th>\n",
       "      <th>Active Std</th>\n",
       "      <th>Active Max</th>\n",
       "      <th>Idle Std</th>\n",
       "    </tr>\n",
       "  </thead>\n",
       "  <tbody>\n",
       "    <tr>\n",
       "      <th>0</th>\n",
       "      <td>54865</td>\n",
       "      <td>3</td>\n",
       "      <td>2</td>\n",
       "      <td>12</td>\n",
       "      <td>6</td>\n",
       "      <td>6</td>\n",
       "      <td>0</td>\n",
       "      <td>0</td>\n",
       "      <td>4.000000e+06</td>\n",
       "      <td>666666.687500</td>\n",
       "      <td>...</td>\n",
       "      <td>0</td>\n",
       "      <td>0</td>\n",
       "      <td>0</td>\n",
       "      <td>0</td>\n",
       "      <td>33</td>\n",
       "      <td>-1</td>\n",
       "      <td>0.0</td>\n",
       "      <td>0.0</td>\n",
       "      <td>0</td>\n",
       "      <td>0.0</td>\n",
       "    </tr>\n",
       "    <tr>\n",
       "      <th>1</th>\n",
       "      <td>55054</td>\n",
       "      <td>109</td>\n",
       "      <td>1</td>\n",
       "      <td>6</td>\n",
       "      <td>6</td>\n",
       "      <td>6</td>\n",
       "      <td>6</td>\n",
       "      <td>6</td>\n",
       "      <td>1.100917e+05</td>\n",
       "      <td>18348.623047</td>\n",
       "      <td>...</td>\n",
       "      <td>0</td>\n",
       "      <td>0</td>\n",
       "      <td>0</td>\n",
       "      <td>0</td>\n",
       "      <td>29</td>\n",
       "      <td>256</td>\n",
       "      <td>0.0</td>\n",
       "      <td>0.0</td>\n",
       "      <td>0</td>\n",
       "      <td>0.0</td>\n",
       "    </tr>\n",
       "    <tr>\n",
       "      <th>2</th>\n",
       "      <td>55055</td>\n",
       "      <td>52</td>\n",
       "      <td>1</td>\n",
       "      <td>6</td>\n",
       "      <td>6</td>\n",
       "      <td>6</td>\n",
       "      <td>6</td>\n",
       "      <td>6</td>\n",
       "      <td>2.307692e+05</td>\n",
       "      <td>38461.539062</td>\n",
       "      <td>...</td>\n",
       "      <td>0</td>\n",
       "      <td>0</td>\n",
       "      <td>0</td>\n",
       "      <td>0</td>\n",
       "      <td>29</td>\n",
       "      <td>256</td>\n",
       "      <td>0.0</td>\n",
       "      <td>0.0</td>\n",
       "      <td>0</td>\n",
       "      <td>0.0</td>\n",
       "    </tr>\n",
       "    <tr>\n",
       "      <th>3</th>\n",
       "      <td>46236</td>\n",
       "      <td>34</td>\n",
       "      <td>1</td>\n",
       "      <td>6</td>\n",
       "      <td>6</td>\n",
       "      <td>6</td>\n",
       "      <td>6</td>\n",
       "      <td>6</td>\n",
       "      <td>3.529412e+05</td>\n",
       "      <td>58823.531250</td>\n",
       "      <td>...</td>\n",
       "      <td>0</td>\n",
       "      <td>0</td>\n",
       "      <td>0</td>\n",
       "      <td>0</td>\n",
       "      <td>31</td>\n",
       "      <td>329</td>\n",
       "      <td>0.0</td>\n",
       "      <td>0.0</td>\n",
       "      <td>0</td>\n",
       "      <td>0.0</td>\n",
       "    </tr>\n",
       "    <tr>\n",
       "      <th>4</th>\n",
       "      <td>54863</td>\n",
       "      <td>3</td>\n",
       "      <td>2</td>\n",
       "      <td>12</td>\n",
       "      <td>6</td>\n",
       "      <td>6</td>\n",
       "      <td>0</td>\n",
       "      <td>0</td>\n",
       "      <td>4.000000e+06</td>\n",
       "      <td>666666.687500</td>\n",
       "      <td>...</td>\n",
       "      <td>0</td>\n",
       "      <td>0</td>\n",
       "      <td>0</td>\n",
       "      <td>0</td>\n",
       "      <td>32</td>\n",
       "      <td>-1</td>\n",
       "      <td>0.0</td>\n",
       "      <td>0.0</td>\n",
       "      <td>0</td>\n",
       "      <td>0.0</td>\n",
       "    </tr>\n",
       "  </tbody>\n",
       "</table>\n",
       "<p>5 rows × 41 columns</p>\n",
       "</div>"
      ],
      "text/plain": [
       "    Destination Port   Flow Duration   Total Fwd Packets  \\\n",
       "0              54865               3                   2   \n",
       "1              55054             109                   1   \n",
       "2              55055              52                   1   \n",
       "3              46236              34                   1   \n",
       "4              54863               3                   2   \n",
       "\n",
       "   Total Length of Fwd Packets   Fwd Packet Length Max  \\\n",
       "0                           12                       6   \n",
       "1                            6                       6   \n",
       "2                            6                       6   \n",
       "3                            6                       6   \n",
       "4                           12                       6   \n",
       "\n",
       "    Fwd Packet Length Min  Bwd Packet Length Max   Bwd Packet Length Min  \\\n",
       "0                       6                      0                       0   \n",
       "1                       6                      6                       6   \n",
       "2                       6                      6                       6   \n",
       "3                       6                      6                       6   \n",
       "4                       6                      0                       0   \n",
       "\n",
       "   Flow Bytes/s   Flow Packets/s  ...   Fwd Avg Bulk Rate  \\\n",
       "0  4.000000e+06    666666.687500  ...                   0   \n",
       "1  1.100917e+05     18348.623047  ...                   0   \n",
       "2  2.307692e+05     38461.539062  ...                   0   \n",
       "3  3.529412e+05     58823.531250  ...                   0   \n",
       "4  4.000000e+06    666666.687500  ...                   0   \n",
       "\n",
       "    Bwd Avg Bytes/Bulk   Bwd Avg Packets/Bulk  Bwd Avg Bulk Rate  \\\n",
       "0                    0                      0                  0   \n",
       "1                    0                      0                  0   \n",
       "2                    0                      0                  0   \n",
       "3                    0                      0                  0   \n",
       "4                    0                      0                  0   \n",
       "\n",
       "   Init_Win_bytes_forward   Init_Win_bytes_backward  Active Mean   Active Std  \\\n",
       "0                      33                        -1          0.0          0.0   \n",
       "1                      29                       256          0.0          0.0   \n",
       "2                      29                       256          0.0          0.0   \n",
       "3                      31                       329          0.0          0.0   \n",
       "4                      32                        -1          0.0          0.0   \n",
       "\n",
       "    Active Max   Idle Std  \n",
       "0            0        0.0  \n",
       "1            0        0.0  \n",
       "2            0        0.0  \n",
       "3            0        0.0  \n",
       "4            0        0.0  \n",
       "\n",
       "[5 rows x 41 columns]"
      ]
     },
     "execution_count": 23,
     "metadata": {},
     "output_type": "execute_result"
    }
   ],
   "source": [
    "x.head()"
   ]
  },
  {
   "cell_type": "code",
   "execution_count": 25,
   "id": "2cffefcd",
   "metadata": {},
   "outputs": [
    {
     "data": {
      "text/plain": [
       "Index([' Destination Port', ' Flow Duration', ' Total Fwd Packets',\n",
       "       'Total Length of Fwd Packets', ' Fwd Packet Length Max',\n",
       "       ' Fwd Packet Length Min', 'Bwd Packet Length Max',\n",
       "       ' Bwd Packet Length Min', 'Flow Bytes/s', ' Flow Packets/s',\n",
       "       ' Flow IAT Mean', ' Flow IAT Std', ' Flow IAT Min', 'Bwd IAT Total',\n",
       "       ' Bwd IAT Std', 'Fwd PSH Flags', ' Bwd PSH Flags', ' Fwd URG Flags',\n",
       "       ' Bwd URG Flags', ' Fwd Header Length', ' Bwd Header Length',\n",
       "       ' Bwd Packets/s', ' Min Packet Length', 'FIN Flag Count',\n",
       "       ' RST Flag Count', ' PSH Flag Count', ' ACK Flag Count',\n",
       "       ' URG Flag Count', ' Down/Up Ratio', 'Fwd Avg Bytes/Bulk',\n",
       "       ' Fwd Avg Packets/Bulk', ' Fwd Avg Bulk Rate', ' Bwd Avg Bytes/Bulk',\n",
       "       ' Bwd Avg Packets/Bulk', 'Bwd Avg Bulk Rate', 'Init_Win_bytes_forward',\n",
       "       ' Init_Win_bytes_backward', 'Active Mean', ' Active Std', ' Active Max',\n",
       "       ' Idle Std'],\n",
       "      dtype='object')"
      ]
     },
     "execution_count": 25,
     "metadata": {},
     "output_type": "execute_result"
    }
   ],
   "source": [
    "x.columns"
   ]
  },
  {
   "cell_type": "code",
   "execution_count": 30,
   "id": "27dfcc27",
   "metadata": {
    "scrolled": true
   },
   "outputs": [
    {
     "data": {
      "text/plain": [
       "0    BENIGN\n",
       "1    BENIGN\n",
       "2    BENIGN\n",
       "3    BENIGN\n",
       "4    BENIGN\n",
       "Name:  Label, dtype: object"
      ]
     },
     "execution_count": 30,
     "metadata": {},
     "output_type": "execute_result"
    }
   ],
   "source": [
    "y.head()"
   ]
  },
  {
   "cell_type": "code",
   "execution_count": 31,
   "id": "de687a27",
   "metadata": {},
   "outputs": [],
   "source": [
    "rus = RandomUnderSampler(random_state=0)\n",
    "rus.fit(x, y)\n",
    "Xn, yn = rus.fit_resample(x, y)"
   ]
  },
  {
   "cell_type": "code",
   "execution_count": 32,
   "id": "887e0590",
   "metadata": {},
   "outputs": [
    {
     "name": "stdout",
     "output_type": "stream",
     "text": [
      " Destination Port              2.200000e+01\n",
      " Flow Duration                 1.574691e+06\n",
      " Total Fwd Packets             3.500000e+01\n",
      "Total Length of Fwd Packets    2.622000e+03\n",
      " Fwd Packet Length Max         4.080000e+02\n",
      " Fwd Packet Length Min         0.000000e+00\n",
      "Bwd Packet Length Max          9.760000e+02\n",
      " Bwd Packet Length Min         0.000000e+00\n",
      "Flow Bytes/s                   6.134537e+03\n",
      " Flow Packets/s                4.889848e+01\n",
      " Flow IAT Mean                 2.071962e+04\n",
      " Flow IAT Std                  1.136277e+05\n",
      " Flow IAT Min                  1.000000e+00\n",
      "Bwd IAT Total                  6.076490e+05\n",
      " Bwd IAT Std                   3.799710e+04\n",
      "Fwd PSH Flags                  0.000000e+00\n",
      " Bwd PSH Flags                 0.000000e+00\n",
      " Fwd URG Flags                 0.000000e+00\n",
      " Bwd URG Flags                 0.000000e+00\n",
      " Fwd Header Length             7.240000e+02\n",
      " Bwd Header Length             8.640000e+02\n",
      " Bwd Packets/s                 2.667190e+01\n",
      " Min Packet Length             0.000000e+00\n",
      "FIN Flag Count                 0.000000e+00\n",
      " RST Flag Count                0.000000e+00\n",
      " PSH Flag Count                1.000000e+00\n",
      " ACK Flag Count                0.000000e+00\n",
      " URG Flag Count                0.000000e+00\n",
      " Down/Up Ratio                 1.000000e+00\n",
      "Fwd Avg Bytes/Bulk             0.000000e+00\n",
      " Fwd Avg Packets/Bulk          0.000000e+00\n",
      " Fwd Avg Bulk Rate             0.000000e+00\n",
      " Bwd Avg Bytes/Bulk            0.000000e+00\n",
      " Bwd Avg Packets/Bulk          0.000000e+00\n",
      "Bwd Avg Bulk Rate              0.000000e+00\n",
      "Init_Win_bytes_forward         8.192000e+03\n",
      " Init_Win_bytes_backward       2.450000e+02\n",
      "Active Mean                    0.000000e+00\n",
      " Active Std                    0.000000e+00\n",
      " Active Max                    0.000000e+00\n",
      " Idle Std                      0.000000e+00\n",
      "Name: 2544, dtype: float64\n"
     ]
    },
    {
     "name": "stderr",
     "output_type": "stream",
     "text": [
      "/tmp/ipykernel_10151/2721005591.py:4: SettingWithCopyWarning: \n",
      "A value is trying to be set on a copy of a slice from a DataFrame\n",
      "\n",
      "See the caveats in the documentation: https://pandas.pydata.org/pandas-docs/stable/user_guide/indexing.html#returning-a-view-versus-a-copy\n",
      "  input_data.dropna(inplace=True)\n"
     ]
    }
   ],
   "source": [
    "Xn.head()\n",
    "Xn.shape\n",
    "input_data = Xn.iloc[2544]\n",
    "input_data.dropna(inplace=True)\n",
    "print(input_data)"
   ]
  },
  {
   "cell_type": "code",
   "execution_count": 33,
   "id": "f3bc7fac",
   "metadata": {},
   "outputs": [],
   "source": [
    "cols = list(Xn.columns)\n",
    "for col in cols:\n",
    "    Xn[col] = stats.zscore(Xn[col])"
   ]
  },
  {
   "cell_type": "code",
   "execution_count": 34,
   "id": "ddb90e7a",
   "metadata": {},
   "outputs": [],
   "source": [
    "from sklearn.model_selection import GridSearchCV, train_test_split, cross_val_score\n",
    "X_train, X_test, Y_train, Y_test = train_test_split(Xn,yn,test_size=0.30,random_state=0)"
   ]
  },
  {
   "cell_type": "code",
   "execution_count": 35,
   "id": "20982cde",
   "metadata": {},
   "outputs": [
    {
     "name": "stdout",
     "output_type": "stream",
     "text": [
      "True\n",
      "False\n"
     ]
    }
   ],
   "source": [
    "print(np.any(np.isnan(X_train)))\n",
    "print(np.all(np.isfinite(X_train)))"
   ]
  },
  {
   "cell_type": "code",
   "execution_count": 36,
   "id": "2d62a9cf",
   "metadata": {},
   "outputs": [],
   "source": [
    "from sklearn.impute import SimpleImputer\n",
    "\n",
    "# Create an instance of SimpleImputer with 'mean' strategy to replace NaN values\n",
    "imputer = SimpleImputer(strategy='mean')\n",
    "\n",
    "# Fit the imputer to X_train and transform X_train and X_test with it\n",
    "X_train = imputer.fit_transform(X_train)\n",
    "X_test = imputer.transform(X_test)\n",
    "\n",
    "# Apply StandardScaler to X_train and X_test\n",
    "scaler = StandardScaler()\n",
    "X_train = scaler.fit_transform(X_train)\n",
    "X_test = scaler.transform(X_test)"
   ]
  },
  {
   "cell_type": "code",
   "execution_count": 37,
   "id": "c8ad7008",
   "metadata": {},
   "outputs": [
    {
     "name": "stdout",
     "output_type": "stream",
     "text": [
      "Time taken to train model:  2.4175000190734863  seconds\n"
     ]
    }
   ],
   "source": [
    "from sklearn.model_selection import cross_val_score\n",
    "from sklearn.ensemble import RandomForestClassifier as RFC\n",
    "\n",
    "start = time.time()\n",
    "Random_Forest = RFC(max_depth=40) \n",
    "Random_Forest.fit(X_train, Y_train) \n",
    "print(\"Time taken to train model: \", time.time()-start,\" seconds\")"
   ]
  },
  {
   "cell_type": "code",
   "execution_count": 38,
   "id": "bf03087a",
   "metadata": {},
   "outputs": [],
   "source": [
    "from sklearn import metrics\n",
    "Predict_X =  Random_Forest.predict(X_train)\n",
    "scores = cross_val_score(Random_Forest, X_train, Y_train, cv=7)\n",
    "accuracy = metrics.accuracy_score(Y_train,Predict_X)\n",
    "confusion_matrix = metrics.confusion_matrix(Y_train, Predict_X)\n",
    "classification = metrics.classification_report(Y_train, Predict_X)"
   ]
  },
  {
   "cell_type": "code",
   "execution_count": 39,
   "id": "40404a04",
   "metadata": {},
   "outputs": [
    {
     "name": "stdout",
     "output_type": "stream",
     "text": [
      "\n",
      "--------------------------- Results --------------------------------\n",
      "\n",
      "Cross Validation Mean Score:\n",
      " 0.9985555956778979\n",
      "\n",
      "Model Accuracy:\n",
      " 0.9998888919752229\n",
      "\n",
      "Confusion matrix:\n",
      " [[7189    0    0    0    4]\n",
      " [   0 7205    0    0    0]\n",
      " [   0    0 7217    0    0]\n",
      " [   0    0    0 7165    0]\n",
      " [   0    0    0    0 7221]]\n",
      "\n",
      "Classification report:\n",
      "                precision    recall  f1-score   support\n",
      "\n",
      "       BENIGN       1.00      1.00      1.00      7193\n",
      "         DDoS       1.00      1.00      1.00      7205\n",
      "DoS GoldenEye       1.00      1.00      1.00      7217\n",
      "     DoS Hulk       1.00      1.00      1.00      7165\n",
      "     PortScan       1.00      1.00      1.00      7221\n",
      "\n",
      "     accuracy                           1.00     36001\n",
      "    macro avg       1.00      1.00      1.00     36001\n",
      " weighted avg       1.00      1.00      1.00     36001\n",
      "\n",
      "\n"
     ]
    }
   ],
   "source": [
    "print()\n",
    "print('--------------------------- Results --------------------------------')\n",
    "print()\n",
    "print (\"Cross Validation Mean Score:\" \"\\n\", scores.mean())\n",
    "print()\n",
    "print (\"Model Accuracy:\" \"\\n\", accuracy)\n",
    "print()\n",
    "print(\"Confusion matrix:\" \"\\n\", confusion_matrix)\n",
    "print()\n",
    "print(\"Classification report:\" \"\\n\", classification) \n",
    "print()"
   ]
  },
  {
   "cell_type": "code",
   "execution_count": 40,
   "id": "1b569dc7",
   "metadata": {},
   "outputs": [],
   "source": [
    "def plot_confusion_matrix(cm,title,cmap=None,target=None,normalize=False):\n",
    "\n",
    "    import itertools\n",
    "    accuracy = np.trace(cm) / float(np.sum(cm))\n",
    "    misclass = 1 - accuracy\n",
    "\n",
    "    if cmap is None:\n",
    "        cmap = plt.get_cmap('viridis')\n",
    "    plt.figure(figsize=(20, 20))\n",
    "    plt.imshow(cm, interpolation='nearest', cmap=cmap)\n",
    "    plt.title(title)\n",
    "    plt.colorbar()\n",
    "\n",
    "    if target is not None:\n",
    "        ticks = np.arange(len(target))\n",
    "        plt.xticks(ticks, target, rotation=45)\n",
    "        plt.yticks(ticks, target)\n",
    "    if normalize:\n",
    "        cm = cm.astype('float') / cm.sum(axis=1)[:, np.newaxis]\n",
    "\n",
    "\n",
    "    thresh = cm.max() / 1.5 if normalize else cm.max() / 2\n",
    "    for i, j in itertools.product(range(cm.shape[0]), range(cm.shape[1])):\n",
    "        if normalize:\n",
    "            plt.text(j, i, \"{:0.4f}\".format(cm[i, j]),\n",
    "                     horizontalalignment=\"center\",\n",
    "                     color=\"black\" if cm[i, j] > thresh else \"white\")\n",
    "        else:\n",
    "            plt.text(j, i, \"{:,}\".format(cm[i, j]),\n",
    "                     horizontalalignment=\"center\",\n",
    "                     color=\"black\" if cm[i, j] > thresh else \"white\")\n",
    "    plt.grid(False)\n",
    "    plt.tight_layout()\n",
    "    plt.ylabel('True label')\n",
    "    plt.xlabel('Predicted label\\naccuracy={:0.4f}; misclass={:0.4f}'.format(accuracy, misclass))\n",
    "    plt.show()\n",
    "    plt.savefig(title, bbox_inches='tight', dpi=300)"
   ]
  },
  {
   "cell_type": "code",
   "execution_count": 41,
   "id": "248cfa58",
   "metadata": {},
   "outputs": [
    {
     "data": {
      "image/png": "[encoded data removed]",
      "text/plain": [
       "<Figure size 2000x2000 with 2 Axes>"
      ]
     },
     "metadata": {},
     "output_type": "display_data"
    },
    {
     "data": {
      "text/plain": [
       "<Figure size 640x480 with 0 Axes>"
      ]
     },
     "metadata": {},
     "output_type": "display_data"
    }
   ],
   "source": [
    "plot_confusion_matrix(cm=confusion_matrix ,title= 'Random Forest Classification')"
   ]
  },
  {
   "cell_type": "code",
   "execution_count": 42,
   "id": "d236bfec",
   "metadata": {},
   "outputs": [],
   "source": [
    "Predict_X =  Random_Forest.predict(X_test)\n",
    "scores = cross_val_score(Random_Forest, X_test, Y_test, cv=7)\n",
    "accuracy = metrics.accuracy_score(Y_test,Predict_X)\n",
    "confusion_matrix = metrics.confusion_matrix(Y_test, Predict_X)\n",
    "classification = metrics.classification_report(Y_test, Predict_X)"
   ]
  },
  {
   "cell_type": "code",
   "execution_count": 43,
   "id": "94e87e0a",
   "metadata": {},
   "outputs": [
    {
     "name": "stdout",
     "output_type": "stream",
     "text": [
      "\n",
      "--------------------------- Results --------------------------------\n",
      "\n",
      "Cross Validation Mean Score:\n",
      " 0.9985093216268446\n",
      "\n",
      "Model Accuracy:\n",
      " 0.9989629917687471\n",
      "\n",
      "Confusion matrix:\n",
      " [[3088    0    0    3    2]\n",
      " [   0 3081    0    0    0]\n",
      " [   4    0 3065    0    0]\n",
      " [   1    0    2 3116    2]\n",
      " [   2    0    0    0 3063]]\n",
      "\n",
      "Classification report:\n",
      "                precision    recall  f1-score   support\n",
      "\n",
      "       BENIGN       1.00      1.00      1.00      3093\n",
      "         DDoS       1.00      1.00      1.00      3081\n",
      "DoS GoldenEye       1.00      1.00      1.00      3069\n",
      "     DoS Hulk       1.00      1.00      1.00      3121\n",
      "     PortScan       1.00      1.00      1.00      3065\n",
      "\n",
      "     accuracy                           1.00     15429\n",
      "    macro avg       1.00      1.00      1.00     15429\n",
      " weighted avg       1.00      1.00      1.00     15429\n",
      "\n",
      "\n"
     ]
    }
   ],
   "source": [
    "print()\n",
    "print('--------------------------- Results --------------------------------')\n",
    "print()\n",
    "print (\"Cross Validation Mean Score:\" \"\\n\", scores.mean())\n",
    "print()\n",
    "print (\"Model Accuracy:\" \"\\n\", accuracy)\n",
    "print()\n",
    "print(\"Confusion matrix:\" \"\\n\", confusion_matrix)\n",
    "print()\n",
    "print(\"Classification report:\" \"\\n\", classification) \n",
    "print()"
   ]
  },
  {
   "cell_type": "code",
   "execution_count": 44,
   "id": "8295554a",
   "metadata": {},
   "outputs": [
    {
     "data": {
      "image/png": "[encoded data removed]",
      "text/plain": [
       "<Figure size 2000x2000 with 2 Axes>"
      ]
     },
     "metadata": {},
     "output_type": "display_data"
    },
    {
     "data": {
      "text/plain": [
       "<Figure size 640x480 with 0 Axes>"
      ]
     },
     "metadata": {},
     "output_type": "display_data"
    }
   ],
   "source": [
    "plot_confusion_matrix(cm=confusion_matrix ,title= 'Random Forest Classification')"
   ]
  },
  {
   "cell_type": "markdown",
   "id": "11c640cb",
   "metadata": {},
   "source": [
    "Building a predictive system"
   ]
  },
  {
   "cell_type": "code",
   "execution_count": 45,
   "id": "646ab522",
   "metadata": {},
   "outputs": [
    {
     "data": {
      "text/plain": [
       "(2496897, 42)"
      ]
     },
     "execution_count": 45,
     "metadata": {},
     "output_type": "execute_result"
    }
   ],
   "source": [
    "df.shape"
   ]
  },
  {
   "cell_type": "code",
   "execution_count": 50,
   "id": "516ceb8f",
   "metadata": {},
   "outputs": [],
   "source": [
    "df_new = pd.read_csv(\"output.csv\") \n"
   ]
  },
  {
   "cell_type": "code",
   "execution_count": 53,
   "id": "44998e5a",
   "metadata": {},
   "outputs": [
    {
     "data": {
      "text/html": [
       "<div>\n",
       "<style scoped>\n",
       "    .dataframe tbody tr th:only-of-type {\n",
       "        vertical-align: middle;\n",
       "    }\n",
       "\n",
       "    .dataframe tbody tr th {\n",
       "        vertical-align: top;\n",
       "    }\n",
       "\n",
       "    .dataframe thead th {\n",
       "        text-align: right;\n",
       "    }\n",
       "</style>\n",
       "<table border=\"1\" class=\"dataframe\">\n",
       "  <thead>\n",
       "    <tr style=\"text-align: right;\">\n",
       "      <th></th>\n",
       "      <th>{\"context\":{\"category\":\"OutboundConnectionTrackerMetrics\",\"instanceId\":\"MM24GWJQXC\",\"referenceId\":\"yf0c5y0ffdzcoerd\",\"stackId\":\"EF14XWWHCI\",\"timestamp\":\"1683331274000\",\"app\":\"DDOS\",\"unit\":\"SECOND\"},\"statistics\":\"{\\\"n_connections\\\":0,\\\"n_connections_syn_sent\\\":0,\\\"n_connections_syn_ack_rcvd\\\":0,\\\"n_connections_established\\\":0,\\\"n_connections_fin_wait_1\\\":0,\\\"n_connections_fin_wait_2\\\":0,\\\"n_connections_closing\\\":0,\\\"n_connections_closed_wait\\\":0,\\\"n_connections_last_ack\\\":0,\\\"n_connections_time_wait\\\":0,\\\"n_connections_rst_time_wait\\\":0,\\\"n_connection_terminated\\\":0,\\\"n_connection_closed\\\":0,\\\"n_connection_entries\\\":0}\",\"topTalker\":false}</th>\n",
       "    </tr>\n",
       "  </thead>\n",
       "  <tbody>\n",
       "    <tr>\n",
       "      <th>0</th>\n",
       "      <td>{\"context\":{\"category\":\"InboundConnectionTrack...</td>\n",
       "    </tr>\n",
       "    <tr>\n",
       "      <th>1</th>\n",
       "      <td>{\"context\":{\"category\":\"NetworkRuleMetrics\",\"i...</td>\n",
       "    </tr>\n",
       "    <tr>\n",
       "      <th>2</th>\n",
       "      <td>{\"context\":{\"category\":\"OutboundL3DpiMetrics\",...</td>\n",
       "    </tr>\n",
       "    <tr>\n",
       "      <th>3</th>\n",
       "      <td>{\"context\":{\"category\":\"OutboundL4DpiMetrics\",...</td>\n",
       "    </tr>\n",
       "    <tr>\n",
       "      <th>4</th>\n",
       "      <td>{\"context\":{\"category\":\"OutboundL7DpiMetrics\",...</td>\n",
       "    </tr>\n",
       "  </tbody>\n",
       "</table>\n",
       "</div>"
      ],
      "text/plain": [
       "  {\"context\":{\"category\":\"OutboundConnectionTrackerMetrics\",\"instanceId\":\"MM24GWJQXC\",\"referenceId\":\"yf0c5y0ffdzcoerd\",\"stackId\":\"EF14XWWHCI\",\"timestamp\":\"1683331274000\",\"app\":\"DDOS\",\"unit\":\"SECOND\"},\"statistics\":\"{\\\"n_connections\\\":0,\\\"n_connections_syn_sent\\\":0,\\\"n_connections_syn_ack_rcvd\\\":0,\\\"n_connections_established\\\":0,\\\"n_connections_fin_wait_1\\\":0,\\\"n_connections_fin_wait_2\\\":0,\\\"n_connections_closing\\\":0,\\\"n_connections_closed_wait\\\":0,\\\"n_connections_last_ack\\\":0,\\\"n_connections_time_wait\\\":0,\\\"n_connections_rst_time_wait\\\":0,\\\"n_connection_terminated\\\":0,\\\"n_connection_closed\\\":0,\\\"n_connection_entries\\\":0}\",\"topTalker\":false}\n",
       "0  {\"context\":{\"category\":\"InboundConnectionTrack...                                                                                                                                                                                                                                                                                                                                                                                                                                                                                                                                                                                                                   \n",
       "1  {\"context\":{\"category\":\"NetworkRuleMetrics\",\"i...                                                                                                                                                                                                                                                                                                                                                                                                                                                                                                                                                                                                                   \n",
       "2  {\"context\":{\"category\":\"OutboundL3DpiMetrics\",...                                                                                                                                                                                                                                                                                                                                                                                                                                                                                                                                                                                                                   \n",
       "3  {\"context\":{\"category\":\"OutboundL4DpiMetrics\",...                                                                                                                                                                                                                                                                                                                                                                                                                                                                                                                                                                                                                   \n",
       "4  {\"context\":{\"category\":\"OutboundL7DpiMetrics\",...                                                                                                                                                                                                                                                                                                                                                                                                                                                                                                                                                                                                                   "
      ]
     },
     "execution_count": 53,
     "metadata": {},
     "output_type": "execute_result"
    }
   ],
   "source": [
    "df_new.head()"
   ]
  },
  {
   "cell_type": "code",
   "execution_count": null,
   "id": "10269fc5",
   "metadata": {},
   "outputs": [],
   "source": [
    "\n"
   ]
  },
  {
   "cell_type": "code",
   "execution_count": null,
   "id": "629b6f14",
   "metadata": {},
   "outputs": [],
   "source": []
  }
 ],
 "metadata": {
  "kernelspec": {
   "display_name": "Python 3 (ipykernel)",
   "language": "python",
   "name": "python3"
  },
  "language_info": {
   "codemirror_mode": {
    "name": "ipython",
    "version": 3
   },
   "file_extension": ".py",
   "mimetype": "text/x-python",
   "name": "python",
   "nbconvert_exporter": "python",
   "pygments_lexer": "ipython3",
   "version": "3.10.9"
  }
 },
 "nbformat": 4,
 "nbformat_minor": 5
}
