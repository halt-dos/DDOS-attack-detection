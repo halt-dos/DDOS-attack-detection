{
 "cells": [
  {
   "cell_type": "markdown",
   "id": "5215e916",
   "metadata": {},
   "source": [
    "The code is to convert json to csv for all categories."
   ]
  },
  {
   "cell_type": "code",
   "execution_count": 2,
   "id": "622e1f4b",
   "metadata": {},
   "outputs": [],
   "source": [
    "import numpy as np \n",
    "import os\n",
    "import pandas as pd \n",
    "import time\n",
    "import matplotlib.pyplot as plt\n",
    "from scipy import stats\n",
    "import seaborn as sns\n",
    "from imblearn.under_sampling import RandomUnderSampler\n",
    "from sklearn.preprocessing import StandardScaler, LabelEncoder\n",
    "from sklearn import tree\n",
    "from sklearn.model_selection import cross_val_score\n",
    "from sklearn.ensemble import RandomForestClassifier as RFC\n",
    "from sklearn import metrics\n",
    "from sklearn.feature_selection import SelectKBest\n",
    "from sklearn.feature_selection import chi2"
   ]
  },
  {
   "cell_type": "code",
   "execution_count": 5,
   "id": "d9ded172",
   "metadata": {},
   "outputs": [
    {
     "name": "stdout",
     "output_type": "stream",
     "text": [
      "Conversion completed. CSV file 'fileinbound2.csv' has been created.\n"
     ]
    }
   ],
   "source": [
    "import csv\n",
    "import json\n",
    "from datetime import datetime\n",
    "\n",
    "def convert_to_csv(input_file, output_file):\n",
    "    with open(input_file, 'r') as file:\n",
    "        data_points = file.readlines()\n",
    "\n",
    "    with open(output_file, 'w', newline='') as file:\n",
    "        writer = csv.writer(file)\n",
    "        writer.writerow(['category', 'timestamp', 'n_pkts_dropped', 'n_bits_dropped', 'n_pkts_bypassed', 'n_rx_bits', 'n_rx_pkts', 'n_tx_bits', 'n_tx_pkts', 'n_rx_offload_bits', 'n_rx_offload_pkts', 'n_tx_offload_bits', 'n_tx_offload_pkts'])\n",
    "\n",
    "        for data_point in data_points:\n",
    "            data = json.loads(data_point)\n",
    "            context = data['context']\n",
    "            statistics = json.loads(data['statistics'])\n",
    "\n",
    "            timestamp_ms = int(context['timestamp'])\n",
    "            timestamp = datetime.fromtimestamp(timestamp_ms / 1000.0)\n",
    "\n",
    "            formatted_timestamp = timestamp.strftime('%d-%m-%Y %H:%M:%S')\n",
    "\n",
    "            row = [\n",
    "                context['category'],\n",
    "                formatted_timestamp,\n",
    "                statistics['n_pkts_dropped'],\n",
    "                statistics['n_bits_dropped'],\n",
    "                statistics['n_pkts_bypassed'],\n",
    "                statistics['n_rx_bits'],\n",
    "                statistics['n_rx_pkts'],\n",
    "                statistics['n_tx_bits'],\n",
    "                statistics['n_tx_pkts'],\n",
    "                statistics['n_rx_offload_bits'],\n",
    "                statistics['n_rx_offload_pkts'],\n",
    "                statistics['n_tx_offload_bits'],\n",
    "                statistics['n_tx_offload_pkts']\n",
    "            ]\n",
    "            writer.writerow(row)\n",
    "\n",
    "    print(f\"Conversion completed. CSV file '{output_file}' has been created.\")\n",
    "\n",
    "# Usage example\n",
    "input_file = 'fileinbound2.json'\n",
    "output_file = 'fileinbound2.csv'\n",
    "convert_to_csv(input_file, output_file)\n"
   ]
  },
  {
   "cell_type": "code",
   "execution_count": 2,
   "id": "9a2d5cdd",
   "metadata": {},
   "outputs": [
    {
     "name": "stdout",
     "output_type": "stream",
     "text": [
      "Conversion completed. CSV file 'fileinbound2.csv' has been created.\n"
     ]
    }
   ],
   "source": [
    "import json\n",
    "import csv\n",
    "\n",
    "#inbound\n",
    "\n",
    "def convert_to_csv(input_file, output_file):\n",
    "    with open(input_file, 'r') as file:\n",
    "        data_points = file.readlines()\n",
    "\n",
    "    with open(output_file, 'w', newline='') as file:\n",
    "        writer = csv.writer(file)\n",
    "        writer.writerow(['category','timestamp','n_pkts_dropped', 'n_bits_dropped', 'n_pkts_bypassed', 'n_rx_bits', 'n_rx_pkts', 'n_tx_bits', 'n_tx_pkts', 'n_rx_offload_bits', 'n_rx_offload_pkts', 'n_tx_offload_bits', 'n_tx_offload_pkts'])\n",
    "\n",
    "        for data_point in data_points:\n",
    "            data = json.loads(data_point)\n",
    "            context = data['context']\n",
    "            statistics = json.loads(data['statistics'])\n",
    "\n",
    "            row = [\n",
    "                context['category'],\n",
    "                context['timestamp'],\n",
    "                statistics['n_pkts_dropped'],\n",
    "                statistics['n_bits_dropped'],\n",
    "                statistics['n_pkts_bypassed'],\n",
    "                statistics['n_rx_bits'],\n",
    "                statistics['n_rx_pkts'],\n",
    "                statistics['n_tx_bits'],\n",
    "                statistics['n_tx_pkts'],\n",
    "                statistics['n_rx_offload_bits'],\n",
    "                statistics['n_rx_offload_pkts'],\n",
    "                statistics['n_tx_offload_bits'],\n",
    "                statistics['n_tx_offload_pkts']\n",
    "            ]\n",
    "            writer.writerow(row)\n",
    "\n",
    "    print(f\"Conversion completed. CSV file '{output_file}' has been created.\")\n",
    "\n",
    "\n",
    "input_file = 'fileinbound2.json'\n",
    "output_file = 'fileinbound2.csv'\n",
    "convert_to_csv(input_file, output_file)\n",
    "\n"
   ]
  },
  {
   "cell_type": "code",
   "execution_count": null,
   "id": "dc07ee1d",
   "metadata": {},
   "outputs": [],
   "source": [
    "## inboundDNS\n",
    "\n",
    "def convert_to_csv(input_file, output_file):\n",
    "    with open(input_file, 'r') as file:\n",
    "        data_points = file.readlines()\n",
    "\n",
    "    with open(output_file, 'w', newline='') as file:\n",
    "        writer = csv.writer(file)\n",
    "        writer.writerow([ 'n_pkts', 'n_bits', 'n_drops', 'n_query_pkts', 'n_response_pkts', 'n_dns_firewall_drops', 'n_outbound_query_track_drops', 'n_invalid_query_drops', 'n_nxdomain_query_pkts', 'n_nxdomain_threshold_drops'])\n",
    "\n",
    "        for data_point in data_points:\n",
    "            data = json.loads(data_point)\n",
    "            context = data['context']\n",
    "            statistics = json.loads(data['statistics'])\n",
    "\n",
    "            row = [\n",
    "                statistics['n_pkts'],\n",
    "                statistics['n_bits'],\n",
    "                statistics['n_drops'],\n",
    "                statistics['n_query_pkts'],\n",
    "                statistics['n_response_pkts'],\n",
    "                statistics['n_dns_firewall_drops'],\n",
    "                statistics['n_outbound_query_track_drops'],\n",
    "                statistics['n_invalid_query_drops'],\n",
    "                statistics['n_nxdomain_query_pkts'],\n",
    "                statistics['n_nxdomain_threshold_drops'],\n",
    "            ]\n",
    "            writer.writerow(row)\n",
    "\n",
    "    print(f\"Conversion completed. CSV file '{output_file}' has been created.\")\n",
    "\n",
    "input_file = 'fileinboundDNS.json'\n",
    "output_file = 'fileinboundDNS.csv'\n",
    "convert_to_csv(input_file, output_file)\n"
   ]
  },
  {
   "cell_type": "code",
   "execution_count": 21,
   "id": "b089e722",
   "metadata": {},
   "outputs": [
    {
     "name": "stdout",
     "output_type": "stream",
     "text": [
      "Conversion completed. CSV file 'fileinboundFTP.csv' has been created.\n"
     ]
    }
   ],
   "source": [
    "#inboundFTP\n",
    "\n",
    "def convert_to_csv(input_file, output_file):\n",
    "    with open(input_file, 'r') as file:\n",
    "        data_points = file.readlines()\n",
    "\n",
    "    with open(output_file, 'w', newline='') as file:\n",
    "        writer = csv.writer(file)\n",
    "        writer.writerow(['category', 'n_pkts', 'n_bits', 'n_drops', 'n_dict_atk_drops'])\n",
    "\n",
    "        for data_point in data_points:\n",
    "            data = json.loads(data_point)\n",
    "            context = data['context']\n",
    "            statistics = json.loads(data['statistics'])\n",
    "\n",
    "            row = [\n",
    "                context['category'],\n",
    "                statistics['n_pkts'],\n",
    "                statistics['n_bits'],\n",
    "                statistics['n_drops'],\n",
    "                statistics['n_dict_atk_drops'],\n",
    "            ]\n",
    "            writer.writerow(row)\n",
    "\n",
    "    print(f\"Conversion completed. CSV file '{output_file}' has been created.\")\n",
    "\n",
    "input_file = 'fileinboundf.json'\n",
    "output_file = 'fileinboundFTP.csv'\n",
    "convert_to_csv(input_file, output_file)"
   ]
  },
  {
   "cell_type": "code",
   "execution_count": 6,
   "id": "6ac7a8da",
   "metadata": {},
   "outputs": [
    {
     "name": "stdout",
     "output_type": "stream",
     "text": [
      "Conversion completed. CSV file 'fileinboundicmp.csv' has been created.\n"
     ]
    }
   ],
   "source": [
    "#inboundicmp\n",
    "\n",
    "def convert_to_csv(input_file, output_file):\n",
    "    with open(input_file, 'r') as file:\n",
    "        data_points = file.readlines()\n",
    "\n",
    "    with open(output_file, 'w', newline='') as file:\n",
    "        writer = csv.writer(file)\n",
    "        writer.writerow([ 'n_pkts', 'n_bits', 'n_drops'])\n",
    "\n",
    "        for data_point in data_points:\n",
    "            data = json.loads(data_point)\n",
    "            context = data['context']\n",
    "            statistics = json.loads(data['statistics'])\n",
    "\n",
    "            row = [\n",
    "                statistics['n_pkts'],\n",
    "                statistics['n_bits'],\n",
    "                statistics['n_drops'],\n",
    "            ]\n",
    "            writer.writerow(row)\n",
    "\n",
    "    print(f\"Conversion completed. CSV file '{output_file}' has been created.\")\n",
    "\n",
    "input_file = 'fileinboundicmp.json'\n",
    "output_file = 'fileinboundicmp.csv'\n",
    "convert_to_csv(input_file, output_file)"
   ]
  },
  {
   "cell_type": "code",
   "execution_count": 7,
   "id": "34a9ef15",
   "metadata": {},
   "outputs": [
    {
     "name": "stdout",
     "output_type": "stream",
     "text": [
      "Conversion completed. CSV file 'fileinboundIGMp.csv' has been created.\n"
     ]
    }
   ],
   "source": [
    "#inboundIGmp\n",
    "\n",
    "def convert_to_csv(input_file, output_file):\n",
    "    with open(input_file, 'r') as file:\n",
    "        data_points = file.readlines()\n",
    "\n",
    "    with open(output_file, 'w', newline='') as file:\n",
    "        writer = csv.writer(file)\n",
    "        writer.writerow([ 'n_pkts', 'n_bits', 'n_drops'])\n",
    "\n",
    "        for data_point in data_points:\n",
    "            data = json.loads(data_point)\n",
    "            context = data['context']\n",
    "            statistics = json.loads(data['statistics'])\n",
    "\n",
    "            row = [\n",
    "                statistics['n_pkts'],\n",
    "                statistics['n_bits'],\n",
    "                statistics['n_drops'],\n",
    "            ]\n",
    "            writer.writerow(row)\n",
    "\n",
    "    print(f\"Conversion completed. CSV file '{output_file}' has been created.\")\n",
    "\n",
    "input_file = 'fileinboundIGMp.json'\n",
    "output_file = 'fileinboundIGMp.csv'\n",
    "convert_to_csv(input_file, output_file)"
   ]
  },
  {
   "cell_type": "code",
   "execution_count": 8,
   "id": "2ca68d50",
   "metadata": {},
   "outputs": [
    {
     "name": "stdout",
     "output_type": "stream",
     "text": [
      "Conversion completed. CSV file 'fileinboundipv4.csv' has been created.\n"
     ]
    }
   ],
   "source": [
    "#inboundipv4\n",
    "\n",
    "def convert_to_csv(input_file, output_file):\n",
    "    with open(input_file, 'r') as file:\n",
    "        data_points = file.readlines()\n",
    "\n",
    "    with open(output_file, 'w', newline='') as file:\n",
    "        writer = csv.writer(file)\n",
    "        writer.writerow([ 'n_pkts', 'n_bits', 'n_drops', 'n_ipsec_pkts', 'n_ipsec_bits', 'n_fragmented_pkts'])\n",
    "\n",
    "        for data_point in data_points:\n",
    "            data = json.loads(data_point)\n",
    "            context = data['context']\n",
    "            statistics = json.loads(data['statistics'])\n",
    "\n",
    "            row = [\n",
    "                statistics['n_pkts'],\n",
    "                statistics['n_bits'],\n",
    "                statistics['n_drops'],\n",
    "                statistics['n_ipsec_pkts'],\n",
    "                statistics['n_ipsec_bits'],\n",
    "                statistics['n_fragmented_pkts'],\n",
    "            ]\n",
    "            writer.writerow(row)\n",
    "\n",
    "    print(f\"Conversion completed. CSV file '{output_file}' has been created.\")\n",
    "\n",
    "input_file = 'fileinboundipv4.json'\n",
    "output_file = 'fileinboundipv4.csv'\n",
    "convert_to_csv(input_file, output_file)"
   ]
  },
  {
   "cell_type": "code",
   "execution_count": 9,
   "id": "c686121a",
   "metadata": {},
   "outputs": [
    {
     "name": "stdout",
     "output_type": "stream",
     "text": [
      "Conversion completed. CSV file 'fileinboundipv6.csv' has been created.\n"
     ]
    }
   ],
   "source": [
    "#inboundipv6\n",
    "\n",
    "def convert_to_csv(input_file, output_file):\n",
    "    with open(input_file, 'r') as file:\n",
    "        data_points = file.readlines()\n",
    "\n",
    "    with open(output_file, 'w', newline='') as file:\n",
    "        writer = csv.writer(file)\n",
    "        writer.writerow([ 'n_pkts', 'n_bits', 'n_drops', 'n_ipsec_pkts', 'n_ipsec_bits', 'n_fragmented_pkts'])\n",
    "\n",
    "        for data_point in data_points:\n",
    "            data = json.loads(data_point)\n",
    "            context = data['context']\n",
    "            statistics = json.loads(data['statistics'])\n",
    "\n",
    "            row = [\n",
    "                statistics['n_pkts'],\n",
    "                statistics['n_bits'],\n",
    "                statistics['n_drops'],\n",
    "                statistics['n_ipsec_pkts'],\n",
    "                statistics['n_ipsec_bits'],\n",
    "                statistics['n_fragmented_pkts'],\n",
    "                 statistics['n_reassembled_pkts'],\n",
    "            ]\n",
    "            writer.writerow(row)\n",
    "\n",
    "    print(f\"Conversion completed. CSV file '{output_file}' has been created.\")\n",
    "\n",
    "input_file = 'fileinboundipv6.json'\n",
    "output_file = 'fileinboundipv6.csv'\n",
    "convert_to_csv(input_file, output_file)"
   ]
  },
  {
   "cell_type": "code",
   "execution_count": 10,
   "id": "a27b2e65",
   "metadata": {},
   "outputs": [
    {
     "name": "stdout",
     "output_type": "stream",
     "text": [
      "Conversion completed. CSV file 'fileinboundIrc.csv' has been created.\n"
     ]
    }
   ],
   "source": [
    "#inboundIrc\n",
    "\n",
    "def convert_to_csv(input_file, output_file):\n",
    "    with open(input_file, 'r') as file:\n",
    "        data_points = file.readlines()\n",
    "\n",
    "    with open(output_file, 'w', newline='') as file:\n",
    "        writer = csv.writer(file)\n",
    "        writer.writerow([ 'unit', 'n_pkts', 'n_bits', 'n_drops'])\n",
    "\n",
    "        for data_point in data_points:\n",
    "            data = json.loads(data_point)\n",
    "            context = data['context']\n",
    "            statistics = json.loads(data['statistics'])\n",
    "\n",
    "            row = [\n",
    "                statistics['n_pkts'],\n",
    "                statistics['n_bits'],\n",
    "                statistics['n_drops'],\n",
    "            ]\n",
    "            writer.writerow(row)\n",
    "\n",
    "    print(f\"Conversion completed. CSV file '{output_file}' has been created.\")\n",
    "\n",
    "input_file = 'fileinboundIrc.json'\n",
    "output_file = 'fileinboundIrc.csv'\n",
    "convert_to_csv(input_file, output_file)"
   ]
  },
  {
   "cell_type": "code",
   "execution_count": 14,
   "id": "4a0c328c",
   "metadata": {},
   "outputs": [
    {
     "name": "stdout",
     "output_type": "stream",
     "text": [
      "Conversion completed. CSV file 'fileinboundNTP.csv' has been created.\n"
     ]
    }
   ],
   "source": [
    "#inboundNTP\n",
    "\n",
    "def convert_to_csv(input_file, output_file):\n",
    "    with open(input_file, 'r') as file:\n",
    "        data_points = file.readlines()\n",
    "\n",
    "    with open(output_file, 'w', newline='') as file:\n",
    "        writer = csv.writer(file)\n",
    "        writer.writerow([ 'n_pkts', 'n_bits', 'n_drops','n_v1_pkts','n_v1_bits','n_v2_pkts','n_v2_bits','n_v3_pkts','n_v3_bits','n_v4_pkts','n_v4_bits'])\n",
    "\n",
    "        for data_point in data_points:\n",
    "            data = json.loads(data_point)\n",
    "            context = data['context']\n",
    "            statistics = json.loads(data['statistics'])\n",
    "\n",
    "            row = [\n",
    "                statistics['n_pkts'],\n",
    "                statistics['n_bits'],\n",
    "                statistics['n_drops'],\n",
    "                statistics['n_v1_pkts'],\n",
    "                statistics['n_v1_bits'],\n",
    "                statistics['n_v2_pkts'],\n",
    "                statistics['n_v2_bits'],\n",
    "                statistics['n_v3_pkts'],\n",
    "                statistics['n_v3_bits'],\n",
    "                statistics['n_v4_pkts'],\n",
    "                statistics['n_v4_bits'],\n",
    "            ]\n",
    "            writer.writerow(row)\n",
    "\n",
    "    print(f\"Conversion completed. CSV file '{output_file}' has been created.\")\n",
    "\n",
    "input_file = 'fileinboundNTP.json'\n",
    "output_file = 'fileinboundNTP.csv'\n",
    "convert_to_csv(input_file, output_file)"
   ]
  },
  {
   "cell_type": "code",
   "execution_count": 15,
   "id": "b49db571",
   "metadata": {},
   "outputs": [
    {
     "name": "stdout",
     "output_type": "stream",
     "text": [
      "Conversion completed. CSV file 'fileinboundSIP.csv' has been created.\n"
     ]
    }
   ],
   "source": [
    "#inboundSIP\n",
    "\n",
    "def convert_to_csv(input_file, output_file):\n",
    "    with open(input_file, 'r') as file:\n",
    "        data_points = file.readlines()\n",
    "\n",
    "    with open(output_file, 'w', newline='') as file:\n",
    "        writer = csv.writer(file)\n",
    "        writer.writerow([ 'n_pkts', 'n_bits', 'n_drops'])\n",
    "\n",
    "        for data_point in data_points:\n",
    "            data = json.loads(data_point)\n",
    "            context = data['context']\n",
    "            statistics = json.loads(data['statistics'])\n",
    "\n",
    "            row = [\n",
    "                statistics['n_pkts'],\n",
    "                statistics['n_bits'],\n",
    "                statistics['n_drops'],\n",
    "            ]\n",
    "            writer.writerow(row)\n",
    "\n",
    "    print(f\"Conversion completed. CSV file '{output_file}' has been created.\")\n",
    "\n",
    "input_file = 'fileinboundSIP.json'\n",
    "output_file = 'fileinboundSIP.csv'\n",
    "convert_to_csv(input_file, output_file)"
   ]
  },
  {
   "cell_type": "code",
   "execution_count": 16,
   "id": "1c3c7b66",
   "metadata": {},
   "outputs": [
    {
     "name": "stdout",
     "output_type": "stream",
     "text": [
      "Conversion completed. CSV file 'fileinboundSMTP.csv' has been created.\n"
     ]
    }
   ],
   "source": [
    "#inboundSMTP\n",
    "\n",
    "def convert_to_csv(input_file, output_file):\n",
    "    with open(input_file, 'r') as file:\n",
    "        data_points = file.readlines()\n",
    "\n",
    "    with open(output_file, 'w', newline='') as file:\n",
    "        writer = csv.writer(file)\n",
    "        writer.writerow(['n_pkts', 'n_bits', 'n_drops','n_dict_atk_drops'])\n",
    "\n",
    "        for data_point in data_points:\n",
    "            data = json.loads(data_point)\n",
    "            context = data['context']\n",
    "            statistics = json.loads(data['statistics'])\n",
    "\n",
    "            row = [\n",
    "                statistics['n_pkts'],\n",
    "                statistics['n_bits'],\n",
    "                statistics['n_drops'],\n",
    "                statistics['n_dict_atk_drops'],\n",
    "            ]\n",
    "            writer.writerow(row)\n",
    "\n",
    "    print(f\"Conversion completed. CSV file '{output_file}' has been created.\")\n",
    "\n",
    "input_file = 'fileinboundSMTP.json'\n",
    "output_file = 'fileinboundSMTP.csv'\n",
    "convert_to_csv(input_file, output_file)"
   ]
  },
  {
   "cell_type": "code",
   "execution_count": 17,
   "id": "64a042b1",
   "metadata": {},
   "outputs": [
    {
     "name": "stdout",
     "output_type": "stream",
     "text": [
      "Conversion completed. CSV file 'fileinboundSNMP.csv' has been created.\n"
     ]
    }
   ],
   "source": [
    "#inboundSNMP\n",
    "\n",
    "def convert_to_csv(input_file, output_file):\n",
    "    with open(input_file, 'r') as file:\n",
    "        data_points = file.readlines()\n",
    "\n",
    "    with open(output_file, 'w', newline='') as file:\n",
    "        writer = csv.writer(file)\n",
    "        writer.writerow([ 'n_pkts', 'n_bits', 'n_drops','n_v1_pkts','n_v1_bits','n_v2c_pkts','n_v2c_bits','n_v2u_pkts','n_v2u_bits','n_v3_pkts','n_v3_bits'])\n",
    "\n",
    "        for data_point in data_points:\n",
    "            data = json.loads(data_point)\n",
    "            context = data['context']\n",
    "            statistics = json.loads(data['statistics'])\n",
    "\n",
    "            row = [\n",
    "                statistics['n_pkts'],\n",
    "                statistics['n_bits'],\n",
    "                statistics['n_drops'],\n",
    "                statistics['n_v1_pkts'],\n",
    "                statistics['n_v1_bits'],\n",
    "                statistics['n_v2c_pkts'],\n",
    "                statistics['n_v2c_bits'],\n",
    "                statistics['n_v2u_pkts'],\n",
    "                statistics['n_v2u_bits'],\n",
    "                statistics['n_v3_pkts'],\n",
    "                statistics['n_v3_bits'],\n",
    "            ]\n",
    "            writer.writerow(row)\n",
    "\n",
    "    print(f\"Conversion completed. CSV file '{output_file}' has been created.\")\n",
    "\n",
    "input_file = 'fileinboundSNMP.json'\n",
    "output_file = 'fileinboundSNMP.csv'\n",
    "convert_to_csv(input_file, output_file)"
   ]
  },
  {
   "cell_type": "code",
   "execution_count": 4,
   "id": "87d38500",
   "metadata": {},
   "outputs": [
    {
     "name": "stdout",
     "output_type": "stream",
     "text": [
      "Conversion completed. CSV file 'fileinbound2tcp.csv' has been created.\n"
     ]
    }
   ],
   "source": [
    "#inboundTCP\n",
    "import csv\n",
    "import json\n",
    "from datetime import datetime\n",
    "def convert_to_csv(input_file, output_file):\n",
    "    with open(input_file, 'r') as file:\n",
    "        data_points = file.readlines()\n",
    "\n",
    "    with open(output_file, 'w', newline='') as file:\n",
    "        writer = csv.writer(file)\n",
    "        writer.writerow([ 'category', 'timestamp', 'n_pkts', 'n_bits', 'n_drops','n_syn_pkts','n_ack_pkts','n_psh_pkts','n_rst_pkts','n_fin_pkts','n_ece_pkts','n_urg_pkts','n_cwr_pkts','n_tcp_payload_misbehaviour_drops','n_tcp_payload_misbehaviour_timeouts','n_out_of_order_drops','n_ssl_renegotiation_requests'])\n",
    "\n",
    "        for data_point in data_points:\n",
    "            data = json.loads(data_point)\n",
    "            context = data['context']\n",
    "            statistics = json.loads(data['statistics'])\n",
    "\n",
    "            row = [\n",
    "                context['category'],\n",
    "                context['timestamp'],\n",
    "                statistics['n_pkts'],\n",
    "                statistics['n_bits'],\n",
    "                statistics['n_drops'],\n",
    "                statistics['n_syn_pkts'],\n",
    "                statistics['n_ack_pkts'],\n",
    "                statistics['n_psh_pkts'],\n",
    "                statistics['n_rst_pkts'],\n",
    "                statistics['n_fin_pkts'],\n",
    "                statistics['n_ece_pkts'],\n",
    "                statistics['n_urg_pkts'],\n",
    "                statistics['n_cwr_pkts'],\n",
    "                statistics['n_tcp_payload_misbehaviour_drops'],\n",
    "                statistics['n_tcp_payload_misbehaviour_timeouts'],\n",
    "                statistics['n_out_of_order_drops'],\n",
    "                statistics['n_ssl_renegotiation_requests'],\n",
    "            ]\n",
    "            writer.writerow(row)\n",
    "\n",
    "    print(f\"Conversion completed. CSV file '{output_file}' has been created.\")\n",
    "\n",
    "input_file = 'fileinbound2tcp.json'\n",
    "output_file = 'fileinbound2tcp.csv'\n",
    "convert_to_csv(input_file, output_file)"
   ]
  },
  {
   "cell_type": "code",
   "execution_count": 13,
   "id": "8af817f9",
   "metadata": {},
   "outputs": [
    {
     "name": "stdout",
     "output_type": "stream",
     "text": [
      "Conversion completed. CSV file 'fileinboundudp.csv' has been created.\n"
     ]
    }
   ],
   "source": [
    "#inboundUDP\n",
    "\n",
    "def convert_to_csv(input_file, output_file):\n",
    "    with open(input_file, 'r') as file:\n",
    "        data_points = file.readlines()\n",
    "\n",
    "    with open(output_file, 'w', newline='') as file:\n",
    "        writer = csv.writer(file)\n",
    "        writer.writerow(['category', 'unit', 'n_pkts', 'n_bits', 'n_drops'])\n",
    "\n",
    "        for data_point in data_points:\n",
    "            data = json.loads(data_point)\n",
    "            context = data['context']\n",
    "            statistics = json.loads(data['statistics'])\n",
    "\n",
    "            row = [\n",
    "                context['category'],\n",
    "                statistics['n_pkts'],\n",
    "                statistics['n_bits'],\n",
    "                statistics['n_drops'],\n",
    "            ]\n",
    "            writer.writerow(row)\n",
    "\n",
    "    print(f\"Conversion completed. CSV file '{output_file}' has been created.\")\n",
    "\n",
    "input_file = 'fileinboundudp.'\n",
    "output_file = 'fileinboundudp.csv'\n",
    "convert_to_csv(input_file, output_file)"
   ]
  },
  {
   "cell_type": "code",
   "execution_count": 14,
   "id": "6ededca0",
   "metadata": {},
   "outputs": [],
   "source": [
    "df = pd.read_csv('fileinboundudp.csv')"
   ]
  },
  {
   "cell_type": "code",
   "execution_count": 15,
   "id": "caf17872",
   "metadata": {},
   "outputs": [],
   "source": [
    "df1= df[df['n_pkts']!=0]"
   ]
  },
  {
   "cell_type": "code",
   "execution_count": 16,
   "id": "2c09edae",
   "metadata": {},
   "outputs": [
    {
     "data": {
      "text/plain": [
       "(376, 4)"
      ]
     },
     "execution_count": 16,
     "metadata": {},
     "output_type": "execute_result"
    }
   ],
   "source": [
    "df1.shape"
   ]
  },
  {
   "cell_type": "code",
   "execution_count": 17,
   "id": "18c73f1f",
   "metadata": {},
   "outputs": [
    {
     "data": {
      "text/html": [
       "<div>\n",
       "<style scoped>\n",
       "    .dataframe tbody tr th:only-of-type {\n",
       "        vertical-align: middle;\n",
       "    }\n",
       "\n",
       "    .dataframe tbody tr th {\n",
       "        vertical-align: top;\n",
       "    }\n",
       "\n",
       "    .dataframe thead th {\n",
       "        text-align: right;\n",
       "    }\n",
       "</style>\n",
       "<table border=\"1\" class=\"dataframe\">\n",
       "  <thead>\n",
       "    <tr style=\"text-align: right;\">\n",
       "      <th></th>\n",
       "      <th>category</th>\n",
       "      <th>n_pkts</th>\n",
       "      <th>n_bits</th>\n",
       "      <th>n_drops</th>\n",
       "    </tr>\n",
       "  </thead>\n",
       "  <tbody>\n",
       "    <tr>\n",
       "      <th>4183</th>\n",
       "      <td>InboundUDPMetrics</td>\n",
       "      <td>1</td>\n",
       "      <td>2072</td>\n",
       "      <td>0</td>\n",
       "    </tr>\n",
       "    <tr>\n",
       "      <th>4184</th>\n",
       "      <td>OutboundUDPMetrics</td>\n",
       "      <td>2</td>\n",
       "      <td>2904</td>\n",
       "      <td>0</td>\n",
       "    </tr>\n",
       "    <tr>\n",
       "      <th>4185</th>\n",
       "      <td>InboundUDPMetrics</td>\n",
       "      <td>1</td>\n",
       "      <td>1648</td>\n",
       "      <td>0</td>\n",
       "    </tr>\n",
       "    <tr>\n",
       "      <th>4186</th>\n",
       "      <td>OutboundUDPMetrics</td>\n",
       "      <td>2</td>\n",
       "      <td>304</td>\n",
       "      <td>0</td>\n",
       "    </tr>\n",
       "    <tr>\n",
       "      <th>4187</th>\n",
       "      <td>InboundUDPMetrics</td>\n",
       "      <td>2</td>\n",
       "      <td>336</td>\n",
       "      <td>0</td>\n",
       "    </tr>\n",
       "  </tbody>\n",
       "</table>\n",
       "</div>"
      ],
      "text/plain": [
       "                category  n_pkts  n_bits  n_drops\n",
       "4183   InboundUDPMetrics       1    2072        0\n",
       "4184  OutboundUDPMetrics       2    2904        0\n",
       "4185   InboundUDPMetrics       1    1648        0\n",
       "4186  OutboundUDPMetrics       2     304        0\n",
       "4187   InboundUDPMetrics       2     336        0"
      ]
     },
     "execution_count": 17,
     "metadata": {},
     "output_type": "execute_result"
    }
   ],
   "source": [
    "df1.head()"
   ]
  },
  {
   "cell_type": "code",
   "execution_count": 19,
   "id": "69856e91",
   "metadata": {},
   "outputs": [],
   "source": [
    "df1.to_csv('output.csv', index=False)"
   ]
  },
  {
   "cell_type": "code",
   "execution_count": null,
   "id": "1014e363",
   "metadata": {},
   "outputs": [],
   "source": []
  }
 ],
 "metadata": {
  "kernelspec": {
   "display_name": "Python 3 (ipykernel)",
   "language": "python",
   "name": "python3"
  },
  "language_info": {
   "codemirror_mode": {
    "name": "ipython",
    "version": 3
   },
   "file_extension": ".py",
   "mimetype": "text/x-python",
   "name": "python",
   "nbconvert_exporter": "python",
   "pygments_lexer": "ipython3",
   "version": "3.10.9"
  }
 },
 "nbformat": 4,
 "nbformat_minor": 5
}
